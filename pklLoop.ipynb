{
 "cells": [
  {
   "cell_type": "code",
   "execution_count": 2,
   "id": "fb276c59",
   "metadata": {},
   "outputs": [],
   "source": [
    "import pandas as pd\n",
    "import numpy as np\n",
    "import ast\n",
    "from vaderSentiment.vaderSentiment import SentimentIntensityAnalyzer\n",
    "import os\n",
    "\n",
    "pd.set_option('display.max_columns', None)\n",
    "pd.set_option('display.max_rows', None)\n",
    "pd.set_option('display.max_colwidth', None)"
   ]
  },
  {
   "cell_type": "code",
   "execution_count": 3,
   "id": "132bcb9d",
   "metadata": {},
   "outputs": [],
   "source": [
    "# get full text from extended tweet\n",
    "def getExtTweet (row):\n",
    "    if 'full_text' in row.keys():\n",
    "        return row['full_text']\n",
    "    else: return \"\""
   ]
  },
  {
   "cell_type": "code",
   "execution_count": 4,
   "id": "9832e6ba",
   "metadata": {},
   "outputs": [],
   "source": [
    "# find the media type of media in tweet, if exists\n",
    "def medTypeFind (row):\n",
    "    for key in row.keys():\n",
    "        if 'media' in key:\n",
    "            return row['media'][0]['type']\n",
    "        else: return np.nan"
   ]
  },
  {
   "cell_type": "code",
   "execution_count": 5,
   "id": "cf97332d",
   "metadata": {},
   "outputs": [],
   "source": [
    "# get full text from retweeted status\n",
    "def getFullText (row):  \n",
    "    if 'extended_tweet' in row.keys():\n",
    "        return row['extended_tweet']['full_text']\n",
    "    else: return \"\""
   ]
  },
  {
   "cell_type": "code",
   "execution_count": 6,
   "id": "45d7e6e3",
   "metadata": {},
   "outputs": [],
   "source": [
    "def literaler (row):\n",
    "    if type(row)==str:\n",
    "        row = row.apply(ast.literal_eval)"
   ]
  },
  {
   "cell_type": "code",
   "execution_count": 7,
   "id": "3b5a7010",
   "metadata": {},
   "outputs": [],
   "source": [
    "# get original tweeter name if this tweet is a retweet\n",
    "def getOg (row):\n",
    "    if 'user' in row.keys():\n",
    "        return row['user']['screen_name']\n",
    "    else: return \"\""
   ]
  },
  {
   "cell_type": "code",
   "execution_count": 37,
   "id": "0d1e075b",
   "metadata": {},
   "outputs": [],
   "source": [
    "#list of final column names\n",
    "pklPath = \"C:/Users/jacob/Desktop/Data Analytics 2022/2022 Ads/pickles/\"\n",
    "parqPath = \"C:/Users/jacob/Desktop/Data Analytics 2022/2022 Ads/parquets/\"\n",
    "csvPath = \"C:/Users/jacob/Desktop/Data Analytics 2022/2022 Ads/csvs/\"\n",
    "final_list = ['_id', 'screen_name', 'follower_count', 'location', 'Ad Name','created_at', 'mediaType', 'lang', 'source',\n",
    "       'text', 'full_text','og_tweet_un', 'in_reply_to_screen_name', 'favorite_count','quote_count', 'reply_count', 'retweet_count', 'sentiment']"
   ]
  },
  {
   "cell_type": "code",
   "execution_count": 13,
   "id": "d0330123",
   "metadata": {},
   "outputs": [],
   "source": [
    "pklList = os.listdir('C:/Users/jacob/Desktop/Data Analytics 2022/2022 Ads/pickles')\n",
    "csvNamelist = [sub.replace('.pkl','') for sub in pklList ]"
   ]
  },
  {
   "cell_type": "code",
   "execution_count": 44,
   "id": "15781c32",
   "metadata": {},
   "outputs": [],
   "source": [
    "all_df = pd.DataFrame(columns=final_list)\n",
    "for pickle in pklList:\n",
    "    df = pd.read_pickle(pklPath+pickle)\n",
    "    # get formatting correct\n",
    "    for i in range(0,df.columns.get_loc('favorite_count')):\n",
    "        df.iloc[:,i] = df.iloc[:,i].astype(str)\n",
    "    df = df.replace('nan', np.nan)\n",
    "    df['created_at'] = df['created_at'].astype('datetime64[ns]')\n",
    "\n",
    "    # get entities formatted as json, create mediatype column\n",
    "    df['entities'] = df['entities'].apply(ast.literal_eval)\n",
    "    df.insert(df.columns.get_loc('entities')+1, 'mediaType', np.nan)\n",
    "    df['mediaType'] = df['entities'].apply(lambda cell : medTypeFind(cell))\n",
    "    \n",
    "    # format retweeted_status and extended_tweet columns as json, create full_text column\n",
    "    df['retweeted_status'] = df['retweeted_status'].replace(np.nan, \"{}\")\n",
    "    df['extended_tweet'] = df['extended_tweet'].replace(np.nan, \"{}\")\n",
    "    df.insert(df.columns.get_loc('text')+1,'full_text',\"\")\n",
    "    df['retweeted_status'] = df['retweeted_status'].apply(ast.literal_eval)\n",
    "    df['extended_tweet'] = df['extended_tweet'].apply(ast.literal_eval)\n",
    "    \n",
    "    # extract full text wherever possible\n",
    "    df['full_text'] = np.where(df['retweeted_status']!={},df['retweeted_status'].apply(lambda row : getFullText(row)),np.where(df['extended_tweet']!={}, df['extended_tweet'].apply(lambda row : getExtTweet(row)),df['text']))\n",
    "    \n",
    "    # extract original tweeter's screen name if tweet is retweet\n",
    "    df.insert(df.columns.get_loc('retweeted_status')+1, 'og_tweet_un', \"\")\n",
    "    df['og_tweet_un'] = np.where(df['retweeted_status']!={}, df['retweeted_status'].apply(getOg), \"\")\n",
    "    \n",
    "    # format source column in easily readable way\n",
    "    df['source'] = df['source'].apply(lambda st: st[st.find(\">\")+1:st.find(\"</a\")])\n",
    "    \n",
    "    # use sentiment analyzer\n",
    "    df['text'] = df['text'].astype(str)\n",
    "    df = df.reset_index(drop=True)\n",
    "    analyzer = SentimentIntensityAnalyzer()\n",
    "    df['sentiment'] = np.where(df['full_text']=='',[analyzer.polarity_scores(x)['compound'] for x in df['text']],[analyzer.polarity_scores(x)['compound'] for x in df['full_text']])\n",
    "    \n",
    "    # get location information from user column\n",
    "    df.insert(df.columns.get_loc('user')+1, 'location', \"\")\n",
    "    df['user'] = df['user'].apply(ast.literal_eval)\n",
    "    df['location'] = df['user'].apply(lambda row: row['location'])\n",
    "    \n",
    "    # get follower count from user column\n",
    "    df.insert(df.columns.get_loc('user')+1, 'follower_count', \"\")\n",
    "    df['follower_count'] = df['user'].apply(lambda row: row['followers_count'])\n",
    "    \n",
    "    # get screen name from user column\n",
    "    df.insert(df.columns.get_loc('user')+1, 'screen_name', \"\")\n",
    "    df['screen_name'] = df['user'].apply(lambda row: row['screen_name'])\n",
    "    \n",
    "    df = df[final_list]\n",
    "    df.to_csv(csvPath+pickle.replace('.pkl','')+'.csv')\n",
    "    all_df.append(df)\n",
    "    "
   ]
  },
  {
   "cell_type": "code",
   "execution_count": 46,
   "id": "f201cb1e",
   "metadata": {},
   "outputs": [],
   "source": [
    "csvList = os.listdir(csvPath)"
   ]
  },
  {
   "cell_type": "code",
   "execution_count": 60,
   "id": "b7a40f15",
   "metadata": {},
   "outputs": [],
   "source": [
    "all_df = pd.DataFrame(columns=final_list)\n",
    "for ad in csvList:\n",
    "    df = pd.read_csv(csvPath+ad)\n",
    "    all_df = pd.concat([all_df,df])"
   ]
  },
  {
   "cell_type": "code",
   "execution_count": 66,
   "id": "eb56c8c6",
   "metadata": {},
   "outputs": [],
   "source": [
    "all_df.to_csv('C:/Users/jacob/Desktop/Data Analytics 2022/2022 Ads/allAds.csv')"
   ]
  },
  {
   "cell_type": "code",
   "execution_count": 65,
   "id": "b4c4d0a9",
   "metadata": {},
   "outputs": [
    {
     "name": "stdout",
     "output_type": "stream",
     "text": [
      "<class 'pandas.core.frame.DataFrame'>\n",
      "Int64Index: 2031877 entries, 0 to 396\n",
      "Data columns (total 19 columns):\n",
      " #   Column                   Dtype  \n",
      "---  ------                   -----  \n",
      " 0   _id                      object \n",
      " 1   screen_name              object \n",
      " 2   follower_count           object \n",
      " 3   location                 object \n",
      " 4   Ad Name                  object \n",
      " 5   created_at               object \n",
      " 6   mediaType                float64\n",
      " 7   lang                     object \n",
      " 8   source                   object \n",
      " 9   text                     object \n",
      " 10  full_text                object \n",
      " 11  og_tweet_un              object \n",
      " 12  in_reply_to_screen_name  object \n",
      " 13  favorite_count           object \n",
      " 14  quote_count              object \n",
      " 15  reply_count              object \n",
      " 16  retweet_count            object \n",
      " 17  sentiment                float64\n",
      " 18  Unnamed: 0               float64\n",
      "dtypes: float64(3), object(16)\n",
      "memory usage: 310.0+ MB\n"
     ]
    }
   ],
   "source": [
    "all_df.info(verbose=True)"
   ]
  },
  {
   "cell_type": "code",
   "execution_count": 22,
   "id": "bc54b2da",
   "metadata": {},
   "outputs": [],
   "source": [
    "# get formatting correct\n",
    "for i in range(0,df.columns.get_loc('favorite_count')):\n",
    "    df.iloc[:,i] = df.iloc[:,i].astype(str)\n",
    "df = df.replace('nan', np.nan)\n",
    "df['created_at'] = df['created_at'].astype('datetime64[ns]')\n",
    "\n",
    "# get entities formatted as json, create mediatype column\n",
    "df['entities'] = df['entities'].apply(ast.literal_eval)\n",
    "df.insert(df.columns.get_loc('entities')+1, 'mediaType', np.nan)\n",
    "df['mediaType'] = df['entities'].apply(lambda cell : medTypeFind(cell))"
   ]
  },
  {
   "cell_type": "code",
   "execution_count": 23,
   "id": "9e049d10",
   "metadata": {},
   "outputs": [],
   "source": [
    "# format retweeted_status and extended_tweet columns as json, create full_text column\n",
    "df['retweeted_status'] = df['retweeted_status'].replace(np.nan, \"{}\")\n",
    "df['extended_tweet'] = df['extended_tweet'].replace(np.nan, \"{}\")\n",
    "df.insert(df.columns.get_loc('text')+1,'full_text',\"\")\n",
    "df['retweeted_status'] = df['retweeted_status'].apply(ast.literal_eval)\n",
    "df['extended_tweet'] = df['extended_tweet'].apply(ast.literal_eval)"
   ]
  },
  {
   "cell_type": "code",
   "execution_count": 24,
   "id": "ece11e8f",
   "metadata": {},
   "outputs": [],
   "source": [
    "# extract full text wherever possible\n",
    "df['full_text'] = np.where(df['retweeted_status']!={},df['retweeted_status'].apply(lambda row : getFullText(row)),np.where(df['extended_tweet']!={}, df['extended_tweet'].apply(lambda row : getExtTweet(row)),df['text']))"
   ]
  },
  {
   "cell_type": "code",
   "execution_count": 25,
   "id": "bbc83a3a",
   "metadata": {},
   "outputs": [],
   "source": [
    "# extract original tweeter's screen name if tweet is retweet\n",
    "df.insert(df.columns.get_loc('retweeted_status')+1, 'og_tweet_un', \"\")\n",
    "df['og_tweet_un'] = np.where(df['retweeted_status']!={}, df['retweeted_status'].apply(getOg), \"\")"
   ]
  },
  {
   "cell_type": "code",
   "execution_count": 26,
   "id": "3216062f",
   "metadata": {},
   "outputs": [],
   "source": [
    "# format source column in easily readable way\n",
    "df['source'] = df['source'].apply(lambda st: st[st.find(\">\")+1:st.find(\"</a\")])"
   ]
  },
  {
   "cell_type": "code",
   "execution_count": 27,
   "id": "8d18148f",
   "metadata": {},
   "outputs": [],
   "source": [
    "# use sentiment analyzer\n",
    "df['text'] = df['text'].astype(str)\n",
    "df = df.reset_index(drop=True)\n",
    "analyzer = SentimentIntensityAnalyzer()\n",
    "df['sentiment'] = np.where(df['full_text']=='',[analyzer.polarity_scores(x)['compound'] for x in df['text']],[analyzer.polarity_scores(x)['compound'] for x in df['full_text']])"
   ]
  },
  {
   "cell_type": "code",
   "execution_count": 28,
   "id": "b1a879f9",
   "metadata": {},
   "outputs": [],
   "source": [
    "# get location information from user column\n",
    "df.insert(df.columns.get_loc('user')+1, 'location', \"\")\n",
    "df['user'] = df['user'].apply(ast.literal_eval)\n",
    "df['location'] = df['user'].apply(lambda row: row['location'])"
   ]
  },
  {
   "cell_type": "code",
   "execution_count": 29,
   "id": "30949578",
   "metadata": {},
   "outputs": [],
   "source": [
    "# get follower count from user column\n",
    "df.insert(df.columns.get_loc('user')+1, 'follower_count', \"\")\n",
    "df['follower_count'] = df['user'].apply(lambda row: row['followers_count'])"
   ]
  },
  {
   "cell_type": "code",
   "execution_count": 30,
   "id": "8fe0c3e2",
   "metadata": {},
   "outputs": [],
   "source": [
    "# get screen name from user column\n",
    "df.insert(df.columns.get_loc('user')+1, 'screen_name', \"\")\n",
    "df['screen_name'] = df['user'].apply(lambda row: row['screen_name'])"
   ]
  },
  {
   "cell_type": "code",
   "execution_count": 31,
   "id": "de221951",
   "metadata": {},
   "outputs": [],
   "source": [
    "df = df[final_list]"
   ]
  },
  {
   "cell_type": "code",
   "execution_count": 32,
   "id": "00e8bd72",
   "metadata": {},
   "outputs": [
    {
     "name": "stdout",
     "output_type": "stream",
     "text": [
      "<class 'pandas.core.frame.DataFrame'>\n",
      "RangeIndex: 167085 entries, 0 to 167084\n",
      "Data columns (total 18 columns):\n",
      " #   Column                   Non-Null Count   Dtype         \n",
      "---  ------                   --------------   -----         \n",
      " 0   _id                      167085 non-null  object        \n",
      " 1   screen_name              167085 non-null  object        \n",
      " 2   follower_count           167085 non-null  int64         \n",
      " 3   location                 77266 non-null   object        \n",
      " 4   Ad Name                  167085 non-null  object        \n",
      " 5   created_at               167085 non-null  datetime64[ns]\n",
      " 6   mediaType                0 non-null       float64       \n",
      " 7   lang                     167085 non-null  object        \n",
      " 8   source                   167085 non-null  object        \n",
      " 9   text                     167085 non-null  object        \n",
      " 10  full_text                167085 non-null  object        \n",
      " 11  og_tweet_un              167085 non-null  object        \n",
      " 12  in_reply_to_screen_name  16323 non-null   object        \n",
      " 13  favorite_count           167085 non-null  int64         \n",
      " 14  quote_count              167085 non-null  int64         \n",
      " 15  reply_count              167085 non-null  int64         \n",
      " 16  retweet_count            167085 non-null  int64         \n",
      " 17  sentiment                167085 non-null  float64       \n",
      "dtypes: datetime64[ns](1), float64(2), int64(5), object(10)\n",
      "memory usage: 22.9+ MB\n"
     ]
    }
   ],
   "source": [
    "df.info()"
   ]
  },
  {
   "cell_type": "code",
   "execution_count": 38,
   "id": "e38d10b6",
   "metadata": {},
   "outputs": [],
   "source": [
    "df.to_csv(csvPath+'amazon.csv')"
   ]
  },
  {
   "cell_type": "code",
   "execution_count": null,
   "id": "b3b80e71",
   "metadata": {},
   "outputs": [],
   "source": []
  }
 ],
 "metadata": {
  "kernelspec": {
   "display_name": "Python 3 (ipykernel)",
   "language": "python",
   "name": "python3"
  },
  "language_info": {
   "codemirror_mode": {
    "name": "ipython",
    "version": 3
   },
   "file_extension": ".py",
   "mimetype": "text/x-python",
   "name": "python",
   "nbconvert_exporter": "python",
   "pygments_lexer": "ipython3",
   "version": "3.10.2"
  }
 },
 "nbformat": 4,
 "nbformat_minor": 5
}
