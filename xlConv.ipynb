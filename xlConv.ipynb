{
 "cells": [
  {
   "cell_type": "code",
   "execution_count": 1,
   "id": "4929f352",
   "metadata": {},
   "outputs": [],
   "source": [
    "import pandas as pd\n",
    "import numpy as np\n",
    "pd.set_option('display.max_columns', None)\n",
    "pd.set_option('display.max_rows', None)\n",
    "pd.set_option('display.max_colwidth', None)"
   ]
  },
  {
   "cell_type": "code",
   "execution_count": 161,
   "id": "46279e4c",
   "metadata": {},
   "outputs": [],
   "source": [
    "keep_list = ['_id','user','Ad Name','created_at','entities','lang','scopes','source','text','extended_tweet','retweeted_status','in_reply_to_screen_name','favorite_count','quote_count','reply_count','retweet_count']\n",
    "masterDf = pd.DataFrame(columns=keep_list)"
   ]
  },
  {
   "cell_type": "code",
   "execution_count": 154,
   "id": "fe0dbfcc",
   "metadata": {},
   "outputs": [],
   "source": [
    "xl1 = pd.ExcelFile('sb_2022_p1.xlsx')"
   ]
  },
  {
   "cell_type": "code",
   "execution_count": 155,
   "id": "c2643a2b",
   "metadata": {},
   "outputs": [
    {
     "data": {
      "text/plain": [
       "['Amazon - Mind Reader',\n",
       " 'Amazon - Open Football',\n",
       " 'AmazonPrimeVideo - LOTR',\n",
       " 'AMC+ - Promo',\n",
       " 'AvocadosFromMexico - Tailgate',\n",
       " 'BMW - ZeusHera',\n",
       " 'Booking - Elba']"
      ]
     },
     "execution_count": 155,
     "metadata": {},
     "output_type": "execute_result"
    }
   ],
   "source": [
    "xl1.sheet_names"
   ]
  },
  {
   "cell_type": "code",
   "execution_count": 158,
   "id": "dbe613f8",
   "metadata": {},
   "outputs": [],
   "source": [
    "dfOne = pd.read_excel(xl1, 'Amazon - Open Football')"
   ]
  },
  {
   "cell_type": "code",
   "execution_count": 163,
   "id": "760747ef",
   "metadata": {
    "scrolled": true
   },
   "outputs": [
    {
     "name": "stdout",
     "output_type": "stream",
     "text": [
      "<class 'pandas.core.frame.DataFrame'>\n",
      "RangeIndex: 396 entries, 0 to 395\n",
      "Data columns (total 38 columns):\n",
      " #   Column                     Non-Null Count  Dtype  \n",
      "---  ------                     --------------  -----  \n",
      " 0   Unnamed: 0                 396 non-null    int64  \n",
      " 1   _id                        396 non-null    object \n",
      " 2   created_at                 396 non-null    object \n",
      " 3   id                         396 non-null    float64\n",
      " 4   id_str                     396 non-null    int64  \n",
      " 5   text                       396 non-null    object \n",
      " 6   source                     396 non-null    object \n",
      " 7   truncated                  396 non-null    bool   \n",
      " 8   in_reply_to_status_id      18 non-null     float64\n",
      " 9   in_reply_to_status_id_str  18 non-null     float64\n",
      " 10  in_reply_to_user_id        25 non-null     float64\n",
      " 11  in_reply_to_user_id_str    25 non-null     float64\n",
      " 12  in_reply_to_screen_name    25 non-null     object \n",
      " 13  user                       396 non-null    object \n",
      " 14  geo                        0 non-null      float64\n",
      " 15  coordinates                0 non-null      float64\n",
      " 16  place                      8 non-null      object \n",
      " 17  contributors               0 non-null      float64\n",
      " 18  retweeted_status           211 non-null    object \n",
      " 19  is_quote_status            396 non-null    bool   \n",
      " 20  quote_count                396 non-null    int64  \n",
      " 21  reply_count                396 non-null    int64  \n",
      " 22  retweet_count              396 non-null    int64  \n",
      " 23  favorite_count             396 non-null    int64  \n",
      " 24  entities                   396 non-null    object \n",
      " 25  favorited                  396 non-null    bool   \n",
      " 26  retweeted                  396 non-null    bool   \n",
      " 27  filter_level               396 non-null    object \n",
      " 28  lang                       396 non-null    object \n",
      " 29  matching_rules             396 non-null    object \n",
      " 30  display_text_range         80 non-null     object \n",
      " 31  extended_tweet             96 non-null     object \n",
      " 32  possibly_sensitive         165 non-null    float64\n",
      " 33  extended_entities          60 non-null     object \n",
      " 34  quoted_status_id           8 non-null      float64\n",
      " 35  quoted_status_id_str       8 non-null      float64\n",
      " 36  quoted_status              8 non-null      object \n",
      " 37  quoted_status_permalink    8 non-null      object \n",
      "dtypes: bool(4), float64(11), int64(6), object(17)\n",
      "memory usage: 106.9+ KB\n"
     ]
    }
   ],
   "source": [
    "dfOne.info()"
   ]
  },
  {
   "cell_type": "code",
   "execution_count": null,
   "id": "76f37082",
   "metadata": {},
   "outputs": [],
   "source": []
  },
  {
   "cell_type": "code",
   "execution_count": null,
   "id": "b16b38e3",
   "metadata": {},
   "outputs": [],
   "source": []
  },
  {
   "cell_type": "code",
   "execution_count": 152,
   "id": "ca511d01",
   "metadata": {},
   "outputs": [],
   "source": [
    "pklPath = \"C:/Users/jacob/Desktop/Data Analytics 2022/2022 Ads/pickles/\"\n",
    "parqPath = \"C:/Users/jacob/Desktop/Data Analytics 2022/2022 Ads/parquets/\"\n",
    "csvPath = \"C:/Users/jacob/Desktop/Data Analytics 2022/2022 Ads/csvs/\""
   ]
  },
  {
   "cell_type": "code",
   "execution_count": 162,
   "id": "75d247f5",
   "metadata": {},
   "outputs": [],
   "source": [
    "for file in range (1,9):\n",
    "    xl = pd.ExcelFile('sb_2022_p{}.xlsx'.format(file))\n",
    "    for i, sheet in enumerate(xl.sheet_names):\n",
    "        exec(f'df{i} = pd.read_excel(xl,''sheet'')')\n",
    "        exec(f'df{i}.insert(0,\\'Ad Name\\', sheet)')\n",
    "        exec(f'df{i} = df{i}.merge(masterDf, how=\\'outer\\')')\n",
    "        exec(f'df{i} = df{i}[keep_list]')\n",
    "        exec(f'df{i}.to_pickle(pklPath+\\'/\\'+sheet+\\'.pkl\\')')"
   ]
  },
  {
   "cell_type": "code",
   "execution_count": null,
   "id": "b8d2cc33",
   "metadata": {},
   "outputs": [],
   "source": []
  },
  {
   "cell_type": "code",
   "execution_count": null,
   "id": "1b5f3922",
   "metadata": {},
   "outputs": [],
   "source": []
  },
  {
   "cell_type": "code",
   "execution_count": null,
   "id": "787f2b0b",
   "metadata": {},
   "outputs": [],
   "source": []
  },
  {
   "cell_type": "code",
   "execution_count": 102,
   "id": "a2f042a1",
   "metadata": {},
   "outputs": [],
   "source": [
    "df0 = pd.read_excel(xl,'Amazon - Mind Reader')"
   ]
  },
  {
   "cell_type": "code",
   "execution_count": 140,
   "id": "e85f779d",
   "metadata": {},
   "outputs": [],
   "source": [
    "dfNew = df0.merge(masterDf, how='outer')"
   ]
  },
  {
   "cell_type": "code",
   "execution_count": 142,
   "id": "0cbc6505",
   "metadata": {},
   "outputs": [],
   "source": [
    "dfNew = dfNew[keep_list]"
   ]
  },
  {
   "cell_type": "code",
   "execution_count": 143,
   "id": "2a4becd5",
   "metadata": {},
   "outputs": [
    {
     "name": "stdout",
     "output_type": "stream",
     "text": [
      "<class 'pandas.core.frame.DataFrame'>\n",
      "Int64Index: 167085 entries, 0 to 167084\n",
      "Data columns (total 15 columns):\n",
      " #   Column                   Non-Null Count   Dtype \n",
      "---  ------                   --------------   ----- \n",
      " 0   _id                      167085 non-null  object\n",
      " 1   user                     167085 non-null  object\n",
      " 2   Ad Name                  0 non-null       object\n",
      " 3   created_at               167085 non-null  object\n",
      " 4   entities                 167085 non-null  object\n",
      " 5   lang                     167085 non-null  object\n",
      " 6   scopes                   81 non-null      object\n",
      " 7   source                   167085 non-null  object\n",
      " 8   text                     167085 non-null  object\n",
      " 9   retweeted_status         106471 non-null  object\n",
      " 10  in_reply_to_screen_name  16323 non-null   object\n",
      " 11  favorite_count           167085 non-null  int64 \n",
      " 12  quote_count              167085 non-null  int64 \n",
      " 13  reply_count              167085 non-null  int64 \n",
      " 14  retweet_count            167085 non-null  int64 \n",
      "dtypes: int64(4), object(11)\n",
      "memory usage: 20.4+ MB\n"
     ]
    }
   ],
   "source": [
    "dfNew.info()"
   ]
  },
  {
   "cell_type": "code",
   "execution_count": null,
   "id": "e2f4d624",
   "metadata": {},
   "outputs": [],
   "source": []
  }
 ],
 "metadata": {
  "kernelspec": {
   "display_name": "Python 3 (ipykernel)",
   "language": "python",
   "name": "python3"
  },
  "language_info": {
   "codemirror_mode": {
    "name": "ipython",
    "version": 3
   },
   "file_extension": ".py",
   "mimetype": "text/x-python",
   "name": "python",
   "nbconvert_exporter": "python",
   "pygments_lexer": "ipython3",
   "version": "3.10.2"
  }
 },
 "nbformat": 4,
 "nbformat_minor": 5
}
